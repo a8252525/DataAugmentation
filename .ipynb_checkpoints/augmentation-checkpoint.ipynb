{
 "cells": [
  {
   "cell_type": "code",
   "execution_count": 9,
   "metadata": {},
   "outputs": [],
   "source": [
    "import torch\n",
    "import torchvision\n",
    "from torchvision import transforms\n",
    "import csv\n",
    "import matplotlib.pyplot as plt\n",
    "import matplotlib.image as image\n",
    "import PIL"
   ]
  },
  {
   "cell_type": "code",
   "execution_count": 30,
   "metadata": {},
   "outputs": [
    {
     "name": "stdout",
     "output_type": "stream",
     "text": [
      "/root/notebooks/Class_module/PCB/darknet/VOCdevkit/VOC2007/JPEGImages/000012.jpg\n",
      "./trn_data/000012.jpg\n",
      "<class 'PIL.Image.Image'>\n"
     ]
    }
   ],
   "source": [
    "trn = transforms.RandomApply([\n",
    "    transforms.RandomHorizontalFlip(p=0.5),\n",
    "    transforms.RandomRotation(20),\n",
    "    transforms.ColorJitter(brightness=5, contrast=3, saturation=6, hue=0.1)\n",
    "    ])\n",
    "with open ('./train.txt','r') as t:\n",
    "    rows = csv.reader(t)\n",
    "    #print(list(rows)[0][0])\n",
    "    # /root/notebooks/Class_module/PCB/darknet/VOCdevkit/VOC2007/JPEGImages/000012.jpg\n",
    "    for path in list(rows)[0]:\n",
    "        print(path)\n",
    "        tmp = image.imread(r'/root/notebooks/Class_module/PCB/darknet/VOCdevkit/VOC2007/JPEGImages/000012.jpg')\n",
    "        #plt.imshow(tmp)\n",
    "        with PIL.Image.open(path) as picture :\n",
    "            \n",
    "            #picture\n",
    "            trn_picture = trn(picture)\n",
    "            print('./trn_data/{}'.format(path[-10:]))\n",
    "            print(type(trn_picture))\n",
    "            trn_picture.save('./trn_data/{}'.format(path[-10:]))\n",
    "        #with open()\n",
    "        "
   ]
  },
  {
   "cell_type": "code",
   "execution_count": null,
   "metadata": {},
   "outputs": [],
   "source": []
  },
  {
   "cell_type": "code",
   "execution_count": null,
   "metadata": {},
   "outputs": [],
   "source": []
  }
 ],
 "metadata": {
  "kernelspec": {
   "display_name": "Python 3",
   "language": "python",
   "name": "python3"
  },
  "language_info": {
   "codemirror_mode": {
    "name": "ipython",
    "version": 3
   },
   "file_extension": ".py",
   "mimetype": "text/x-python",
   "name": "python",
   "nbconvert_exporter": "python",
   "pygments_lexer": "ipython3",
   "version": "3.6.7"
  }
 },
 "nbformat": 4,
 "nbformat_minor": 4
}
